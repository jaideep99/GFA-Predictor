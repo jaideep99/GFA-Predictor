{
  "nbformat": 4,
  "nbformat_minor": 0,
  "metadata": {
    "colab": {
      "name": "PGFA.ipynb",
      "provenance": [],
      "mount_file_id": "1BHZUplVXoexCTRfbd8X1Twol9_LvMSJM",
      "authorship_tag": "ABX9TyNkDT+StZ+MCdmtqx2lH9oO",
      "include_colab_link": true
    },
    "kernelspec": {
      "name": "python3",
      "display_name": "Python 3"
    },
    "accelerator": "GPU"
  },
  "cells": [
    {
      "cell_type": "markdown",
      "metadata": {
        "id": "view-in-github",
        "colab_type": "text"
      },
      "source": [
        "<a href=\"https://colab.research.google.com/github/jaideep99/GFA-Predictor/blob/main/PGFA.ipynb\" target=\"_parent\"><img src=\"https://colab.research.google.com/assets/colab-badge.svg\" alt=\"Open In Colab\"/></a>"
      ]
    },
    {
      "cell_type": "code",
      "metadata": {
        "id": "oll8DPZ8GVvP"
      },
      "source": [
        "import numpy as np\n",
        "import pandas as pd\n",
        "import re\n",
        "import math\n",
        "import tensorflow as tf"
      ],
      "execution_count": 10,
      "outputs": []
    },
    {
      "cell_type": "code",
      "metadata": {
        "id": "N5Oa6c5BGiOa"
      },
      "source": [
        "pm = {'Ag': {'mp': 961, 'enthalphy': 11.3, 'en': 1.93, 'ar': 1.72}, 'Al': {'mp': 660.25, 'enthalphy': 10.7, 'en': 1.61, 'ar': 1.43}, 'Au': {'mp': 1064, 'enthalphy': 12.5, 'en': 2.54, 'ar': 1.66}, 'B': {'mp': 2076, 'enthalphy': 50.0, 'en': 2.04, 'ar': 0.85}, 'Be': {'mp': 1287, 'enthalphy': 7.95, 'en': 1.57, 'ar': 1.12}, 'C': {'mp': 3500, 'enthalphy': 105.0, 'en': 2.55, 'ar': 0.7}, 'Ca': {'mp': 839, 'enthalphy': 8.53, 'en': 1.0, 'ar': 2.31}, 'Ce': {'mp': 798, 'enthalphy': 5.5, 'en': 1.12, 'ar': 2.48}, 'Co': {'mp': 1495, 'enthalphy': 16.2, 'en': 1.88, 'ar': 2.0}, 'Cr': {'mp': 1857, 'enthalphy': 20.5, 'en': 1.66, 'ar': 1.28}, 'Cu': {'mp': 1084.6, 'enthalphy': 13.1, 'en': 1.9, 'ar': 1.4}, 'Dy': {'mp': 1412, 'enthalphy': 11.1, 'en': 1.22, 'ar': 2.35}, 'Er': {'mp': 1522, 'enthalphy': 19.9, 'en': 1.24, 'ar': 2.32}, 'Fe': {'mp': 1535, 'enthalphy': 13.8, 'en': 1.83, 'ar': 1.26}, 'Ga': {'mp': 29.76, 'enthalphy': 5.59, 'en': 1.81, 'ar': 1.87}, 'Gd': {'mp': 1312, 'enthalphy': 10.0, 'en': 1.2, 'ar': 1.8}, 'Hf': {'mp': 2227, 'enthalphy': 25.5, 'en': 1.3, 'ar': 2.25}, 'Ho': {'mp': 1470, 'enthalphy': 17.0, 'en': 1.23, 'ar': 2.33}, 'In': {'mp': 156.76, 'enthalphy': 3.26, 'en': 1.78, 'ar': 1.56}, 'La': {'mp': 920, 'enthalphy': 6.3, 'en': 1.1, 'ar': 2.5}, 'Mg': {'mp': 649, 'enthalphy': 8.7, 'en': 1.31, 'ar': 1.73}, 'Mn': {'mp': 1244, 'enthalphy': 13.2, 'en': 1.55, 'ar': 1.61}, 'Mo': {'mp': 2617, 'enthalphy': 36.0, 'en': 2.16, 'ar': 1.9}, 'Nb': {'mp': 2468, 'enthalphy': 26.8, 'en': 1.6, 'ar': 2.15}, 'Nd': {'mp': 1016, 'enthalphy': 7.1, 'en': 1.14, 'ar': 2.29}, 'Ni': {'mp': 1453, 'enthalphy': 17.2, 'en': 1.91, 'ar': 1.63}, 'P': {'mp': 44.3, 'enthalphy': 0.64, 'en': 2.19, 'ar': 1.95}, 'Pd': {'mp': 1552, 'enthalphy': 16.0, 'en': 2.2, 'ar': 1.63}, 'Pr': {'mp': 931, 'enthalphy': 6.9, 'en': 1.13, 'ar': 2.47}, 'Sc': {'mp': 1541, 'enthalphy': 16.0, 'en': 1.36, 'ar': 2.3}, 'Si': {'mp': 1414, 'enthalphy': 50.2, 'en': 1.9, 'ar': 1.11}, 'Sn': {'mp': 231.9, 'enthalphy': 7.0, 'en': 1.96, 'ar': 2.25}, 'Ta': {'mp': 3017, 'enthalphy': 36.0, 'en': 1.5, 'ar': 2.2}, 'Ti': {'mp': 1668, 'enthalphy': 18.7, 'en': 1.54, 'ar': 1.47}, 'Tm': {'mp': 1545, 'enthalphy': 16.8, 'en': 1.25, 'ar': 2.3}, 'Y': {'mp': 1526, 'enthalphy': 11.4, 'en': 1.22, 'ar': 2.4}, 'Zn': {'mp': 419.73, 'enthalphy': 7.35, 'en': 1.65, 'ar': 1.39}, 'Zr': {'mp': 1852, 'enthalphy': 21.0, 'en': 1.33, 'ar': 2.3}}"
      ],
      "execution_count": 11,
      "outputs": []
    },
    {
      "cell_type": "code",
      "metadata": {
        "id": "XdeZetp-NDYf"
      },
      "source": [
        "def diff(x):\n",
        "\n",
        "  #making ranges for each atom\n",
        "  ranges = {}\n",
        "  for i in x:\n",
        "    ranges[i] = 0.88*pm[i]['ar']\n",
        "  \n",
        "  #compiling scoring matrix\n",
        "  score = {}\n",
        "  \n",
        "  for i in x:\n",
        "    dct = {}\n",
        "    for j in x:\n",
        "      if pm[i]['ar']<ranges[j]:\n",
        "        dct[j] = -1\n",
        "      elif pm[i]['ar']>pm[j]['ar']:\n",
        "        dct[j] = 1\n",
        "      else :\n",
        "        dct[j] = 0\n",
        "          \n",
        "    score[i] = dct\n",
        "    \n",
        "  b = []\n",
        "  sm = []\n",
        "  print()\n",
        "  #separating into big and small based on scoring matrix\n",
        "  for i in score:\n",
        "    sum = 0\n",
        "    for j in score[i]:\n",
        "      sum = sum+score[i][j]\n",
        "      \n",
        "    if(sum>0):\n",
        "      b.append(i)\n",
        "      \n",
        "    else : \n",
        "      sm.append(i)\n",
        "      \n",
        "      \n",
        "  return b,sm"
      ],
      "execution_count": 12,
      "outputs": []
    },
    {
      "cell_type": "code",
      "metadata": {
        "id": "N3TqU9vaUwca"
      },
      "source": [
        "#finds the paramater deltaE\n",
        "def electro(all,x):\n",
        "  k =0 #summation of product of composition and electro negativity\n",
        "  p = 0 #summation of compositions\n",
        "\n",
        "  for i in all:\n",
        "    if i in x:\n",
        "      p = p+all[i]\n",
        "  for i in all:\n",
        "    if i in x:\n",
        "      k = k+all[i]*pm[i]['en']\n",
        "  \n",
        "  return k/p"
      ],
      "execution_count": 13,
      "outputs": []
    },
    {
      "cell_type": "code",
      "metadata": {
        "id": "dMBuMH6cTox0"
      },
      "source": [
        "#finds the paramater deltaD\n",
        "def comps(all,x):\n",
        "  k =0 #summation of product of composition and atomic radii\n",
        "  p = 0 #summation of compositions\n",
        "\n",
        "  for i in all:\n",
        "    if i in x:\n",
        "      p = p+all[i]\n",
        "  for i in all:\n",
        "    if i in x:\n",
        "      k = k+all[i]*pm[i]['ar']\n",
        "  \n",
        "  return k/p"
      ],
      "execution_count": 14,
      "outputs": []
    },
    {
      "cell_type": "code",
      "metadata": {
        "id": "XEQmlHGENoJ1"
      },
      "source": [
        "def prepare_params(x):\n",
        "  #Seperating atoms from composition\n",
        "  s = re.sub(r'[^\\w\\s]','',x)\n",
        "  s = re.sub('\\d',' ',s)\n",
        "  els = np.array([i for i in s.split(' ') if i in pm])\n",
        "  print('\\nElements in BMG are : ', els)\n",
        "  \n",
        "  comp = re.findall(r\"[-+]?\\d*\\.\\d+|\\d+\",x)\n",
        "  comp = [float(i) for i in comp]\n",
        "  print('Compositions: ',comp)\n",
        "  \n",
        "  dcomp = dict(zip(els,comp))\n",
        "  smix = 0\n",
        "  hmix = 0\n",
        "\n",
        "  for i in dcomp:\n",
        "    smix = smix + (dcomp[i]/100)*(math.log((dcomp[i]/100)))\n",
        "    hmix = hmix + (dcomp[i]/100)*pm[i]['enthalphy']\n",
        "  smix = -1*smix\n",
        "\n",
        "  big,small = diff(els)\n",
        "\n",
        "  maxrad = 0.5137797338363198\n",
        "  maxen = 0.1441441441441441\n",
        "  rad = (comps(dcomp,big)-comps(dcomp,small))/(comps(dcomp,big))\n",
        "  rad = int((rad/maxrad)*100)\n",
        "  en = (electro(dcomp,big)-electro(dcomp,small))/(electro(dcomp,big)+electro(dcomp,small))\n",
        "  en = int((en/maxen)*100)\n",
        "\n",
        "  return [hmix,smix,rad,en]"
      ],
      "execution_count": 15,
      "outputs": []
    },
    {
      "cell_type": "code",
      "metadata": {
        "id": "ScFcC8AeW-AX"
      },
      "source": [
        "def predictGfaANN(bmg):\n",
        "  model = tf.keras.models.load_model('/content/drive/MyDrive/BMG revised/drop_model_final.h5')\n",
        "  inp = np.array([bmg])\n",
        "  pred = model.predict(inp)\n",
        "  return pred[0][0]"
      ],
      "execution_count": 20,
      "outputs": []
    },
    {
      "cell_type": "code",
      "metadata": {
        "id": "hC773R0yO8Ht"
      },
      "source": [
        "import pickle\n",
        "def predictGfaRF(bmg):\n",
        "  rf_model = pickle.load(open('/content/drive/MyDrive/BMG revised/random_forest.sav', 'rb'))\n",
        "  inp = np.array([bmg])\n",
        "  pred = rf_model.predict(inp)\n",
        "  return pred[0]"
      ],
      "execution_count": 31,
      "outputs": []
    },
    {
      "cell_type": "code",
      "metadata": {
        "id": "Hsi5-idiQplv"
      },
      "source": [
        "def scaleParams(bmg):\n",
        "  scaler = pickle.load(open('/content/drive/MyDrive/BMG revised/st_scaler.sav', 'rb'))\n",
        "  bmg = np.array([bmg])\n",
        "  params_scaled = scaler.transform(bmg)\n",
        "  return params_scaled[0]"
      ],
      "execution_count": 28,
      "outputs": []
    },
    {
      "cell_type": "code",
      "metadata": {
        "id": "cOZgi-jgNZ9s",
        "colab": {
          "base_uri": "https://localhost:8080/"
        },
        "outputId": "4e091c8e-4a76-478a-d10a-46d8695644c4"
      },
      "source": [
        "bmg = input(\"Enter BMG elements and compositions : \")\n",
        "\n",
        "params = prepare_params(bmg)\n",
        "\n",
        "\n",
        "print(\"Computed Parameters are : \",params)\n",
        "\n",
        "params = scaleParams(params)\n",
        "print(\"Computed Scaled Parameters are : \",params)\n",
        "\n",
        "\n",
        "GFA_ANN = predictGfaANN(params)\n",
        "GFA_RF = predictGfaRF(params)\n",
        "\n",
        "print(\"\\nPredicted Dmax ANN: \",GFA_ANN)\n",
        "print(\"\\nPredicted Dmax ANN: \",GFA_RF)"
      ],
      "execution_count": 32,
      "outputs": [
        {
          "output_type": "stream",
          "text": [
            "Enter BMG elements and compositions : Pd73.5Cu10Si16.5\n",
            "\n",
            "Elements in BMG are :  ['Pd' 'Cu' 'Si']\n",
            "Compositions:  [73.5, 10.0, 16.5]\n",
            "\n",
            "Computed Parameters are :  [21.353, 0.7538524402682971, 49, 50]\n",
            "Computed Scaled Parameters are :  [ 1.0567944  -1.51735497 -1.15588644  2.3168874 ]\n",
            "\n",
            "Predicted Dmax ANN:  1.8465838\n",
            "\n",
            "Predicted Dmax ANN:  2.28125\n"
          ],
          "name": "stdout"
        }
      ]
    }
  ]
}